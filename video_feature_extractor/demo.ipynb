{
 "cells": [
  {
   "cell_type": "markdown",
   "metadata": {
    "id": "hxMRmweanuxr"
   },
   "source": [
    "# Inference"
   ]
  },
  {
   "cell_type": "code",
   "execution_count": null,
   "metadata": {},
   "outputs": [],
   "source": [
    "pip install pytorchvideo"
   ]
  },
  {
   "cell_type": "code",
   "execution_count": 2,
   "metadata": {
    "colab": {
     "base_uri": "https://localhost:8080/"
    },
    "id": "HPa-oKuwnv_k",
    "outputId": "c75afe72-b28f-4299-e913-54858bf833d6"
   },
   "outputs": [
    {
     "name": "stdout",
     "output_type": "stream",
     "text": [
      "/content/data\n",
      "--2021-08-16 08:37:59--  https://dl.fbaipublicfiles.com/pytorchvideo/projects/archery.mp4\n",
      "Resolving dl.fbaipublicfiles.com (dl.fbaipublicfiles.com)... 172.67.9.4, 104.22.74.142, 104.22.75.142, ...\n",
      "Connecting to dl.fbaipublicfiles.com (dl.fbaipublicfiles.com)|172.67.9.4|:443... connected.\n",
      "HTTP request sent, awaiting response... 200 OK\n",
      "Length: 549197 (536K) [video/mp4]\n",
      "Saving to: ‘archery.mp4’\n",
      "\n",
      "archery.mp4         100%[===================>] 536.33K  --.-KB/s    in 0.03s   \n",
      "\n",
      "2021-08-16 08:37:59 (15.8 MB/s) - ‘archery.mp4’ saved [549197/549197]\n",
      "\n",
      "/content\n"
     ]
    }
   ],
   "source": [
    "!mkdir output && mkdir data\n",
    "%cd data\n",
    "!wget https://dl.fbaipublicfiles.com/pytorchvideo/projects/archery.mp4 \n",
    "%cd /content"
   ]
  },
  {
   "cell_type": "markdown",
   "metadata": {},
   "source": [
    "### The inference command:\n",
    "- Create a folder `data` at the same level of `video_feature_extractor` and dump the video files there.\n",
    "- Create another folder `output` at the same level of `video_feature_extractor`.\n",
    "- Run `python inference.py` with the following command-line options;\n",
    "    - `--device` : cpu(default), cuda:0\n",
    "    - `--source` : ../data(default)\n",
    "    - `--output` : ../output(default)\n",
    "    - `--model` : slowfast_r50(default), slow_r50, x3d_s"
   ]
  },
  {
   "cell_type": "code",
   "execution_count": 2,
   "metadata": {
    "colab": {
     "base_uri": "https://localhost:8080/"
    },
    "id": "4_T3uIt_oFPK",
    "outputId": "a593af85-5c2a-4ad6-8385-7885f3d70556"
   },
   "outputs": [
    {
     "name": "stdout",
     "output_type": "stream",
     "text": [
      "[Errno 2] No such file or directory: 'video_feature_extractor'\n",
      "/content/video_feature_extractor\n",
      "/usr/local/lib/python3.7/dist-packages/torchvision/transforms/_functional_video.py:6: UserWarning: The _functional_video module is deprecated. Please use the functional module instead.\n",
      "  \"The _functional_video module is deprecated. Please use the functional module instead.\"\n",
      "/usr/local/lib/python3.7/dist-packages/torchvision/transforms/_transforms_video.py:26: UserWarning: The _transforms_video module is deprecated. Please use the transforms module instead.\n",
      "  \"The _transforms_video module is deprecated. Please use the transforms module instead.\"\n",
      "Namespace(device='cuda:0', output='../output', source='../data')\n",
      "Using cache found in /root/.cache/torch/hub/facebookresearch_pytorchvideo_master\n"
     ]
    }
   ],
   "source": [
    "%cd video_feature_extractor\n",
    "!python inference.py -- --device cuda:0"
   ]
  },
  {
   "cell_type": "markdown",
   "metadata": {
    "id": "YWMeUItvoVwD"
   },
   "source": [
    "# Checking X3D"
   ]
  },
  {
   "cell_type": "code",
   "execution_count": 4,
   "metadata": {},
   "outputs": [
    {
     "name": "stderr",
     "output_type": "stream",
     "text": [
      "/home/srihari/anaconda3/envs/udiva/lib/python3.8/site-packages/torchvision/transforms/_functional_video.py:5: UserWarning: The _functional_video module is deprecated. Please use the functional module instead.\n",
      "  warnings.warn(\n",
      "/home/srihari/anaconda3/envs/udiva/lib/python3.8/site-packages/torchvision/transforms/_transforms_video.py:25: UserWarning: The _transforms_video module is deprecated. Please use the transforms module instead.\n",
      "  warnings.warn(\n"
     ]
    }
   ],
   "source": [
    "from VideoFeatureExtractor import VideoFeatureExtractor"
   ]
  },
  {
   "cell_type": "code",
   "execution_count": 6,
   "metadata": {},
   "outputs": [
    {
     "name": "stderr",
     "output_type": "stream",
     "text": [
      "Using cache found in /home/srihari/.cache/torch/hub/facebookresearch_pytorchvideo_main\n"
     ]
    }
   ],
   "source": [
    "model = VideoFeatureExtractor(\"x3d_s\", \"cuda:0\")"
   ]
  }
 ],
 "metadata": {
  "accelerator": "GPU",
  "colab": {
   "collapsed_sections": [],
   "name": "demo.ipynb",
   "provenance": []
  },
  "kernelspec": {
   "display_name": "Python 3 (ipykernel)",
   "language": "python",
   "name": "python3"
  },
  "language_info": {
   "codemirror_mode": {
    "name": "ipython",
    "version": 3
   },
   "file_extension": ".py",
   "mimetype": "text/x-python",
   "name": "python",
   "nbconvert_exporter": "python",
   "pygments_lexer": "ipython3",
   "version": "3.8.11"
  }
 },
 "nbformat": 4,
 "nbformat_minor": 2
}
