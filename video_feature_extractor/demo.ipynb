{
  "nbformat": 4,
  "nbformat_minor": 2,
  "metadata": {
    "colab": {
      "name": "demo.ipynb",
      "provenance": [],
      "collapsed_sections": []
    },
    "kernelspec": {
      "name": "python3",
      "display_name": "Python 3"
    },
    "language_info": {
      "name": "python"
    },
    "accelerator": "GPU"
  },
  "cells": [
    {
      "cell_type": "markdown",
      "source": [
        "# Inference"
      ],
      "metadata": {
        "id": "hxMRmweanuxr"
      }
    },
    {
      "cell_type": "code",
      "execution_count": null,
      "source": [
        "pip install pytorchvideo"
      ],
      "outputs": [],
      "metadata": {}
    },
    {
      "cell_type": "code",
      "execution_count": 2,
      "source": [
        "!mkdir output && mkdir data\r\n",
        "%cd data\r\n",
        "!wget https://dl.fbaipublicfiles.com/pytorchvideo/projects/archery.mp4 \r\n",
        "%cd /content"
      ],
      "outputs": [
        {
          "output_type": "stream",
          "name": "stdout",
          "text": [
            "/content/data\n",
            "--2021-08-16 08:37:59--  https://dl.fbaipublicfiles.com/pytorchvideo/projects/archery.mp4\n",
            "Resolving dl.fbaipublicfiles.com (dl.fbaipublicfiles.com)... 172.67.9.4, 104.22.74.142, 104.22.75.142, ...\n",
            "Connecting to dl.fbaipublicfiles.com (dl.fbaipublicfiles.com)|172.67.9.4|:443... connected.\n",
            "HTTP request sent, awaiting response... 200 OK\n",
            "Length: 549197 (536K) [video/mp4]\n",
            "Saving to: ‘archery.mp4’\n",
            "\n",
            "archery.mp4         100%[===================>] 536.33K  --.-KB/s    in 0.03s   \n",
            "\n",
            "2021-08-16 08:37:59 (15.8 MB/s) - ‘archery.mp4’ saved [549197/549197]\n",
            "\n",
            "/content\n"
          ]
        }
      ],
      "metadata": {
        "colab": {
          "base_uri": "https://localhost:8080/"
        },
        "id": "HPa-oKuwnv_k",
        "outputId": "c75afe72-b28f-4299-e913-54858bf833d6"
      }
    },
    {
      "cell_type": "markdown",
      "source": [
        "### The inference command:\r\n",
        "- Create a folder `data` at the same level of `video_feature_extractor` and dump the video files there.\r\n",
        "- Create another folder `output` at the same level of `video_feature_extractor`.\r\n",
        "- Run `python inference.py` with the following command-line options;\r\n",
        "    - `--device` : cpu(default), cuda:0\r\n",
        "    - `--source` : ../data(default)\r\n",
        "    - `--output` : ../output(default)\r\n",
        "    - `--model` : slowfast_r50(default), slow_r50, x3d_s"
      ],
      "metadata": {}
    },
    {
      "cell_type": "code",
      "execution_count": 2,
      "source": [
        "%cd video_feature_extractor\r\n",
        "!python inference.py -- --device cuda:0"
      ],
      "outputs": [
        {
          "output_type": "stream",
          "name": "stdout",
          "text": [
            "[Errno 2] No such file or directory: 'video_feature_extractor'\n",
            "/content/video_feature_extractor\n",
            "/usr/local/lib/python3.7/dist-packages/torchvision/transforms/_functional_video.py:6: UserWarning: The _functional_video module is deprecated. Please use the functional module instead.\n",
            "  \"The _functional_video module is deprecated. Please use the functional module instead.\"\n",
            "/usr/local/lib/python3.7/dist-packages/torchvision/transforms/_transforms_video.py:26: UserWarning: The _transforms_video module is deprecated. Please use the transforms module instead.\n",
            "  \"The _transforms_video module is deprecated. Please use the transforms module instead.\"\n",
            "Namespace(device='cuda:0', output='../output', source='../data')\n",
            "Using cache found in /root/.cache/torch/hub/facebookresearch_pytorchvideo_master\n"
          ]
        }
      ],
      "metadata": {
        "colab": {
          "base_uri": "https://localhost:8080/"
        },
        "id": "4_T3uIt_oFPK",
        "outputId": "a593af85-5c2a-4ad6-8385-7885f3d70556"
      }
    },
    {
      "cell_type": "code",
      "execution_count": null,
      "source": [],
      "outputs": [],
      "metadata": {
        "id": "YWMeUItvoVwD"
      }
    }
  ]
}